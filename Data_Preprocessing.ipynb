{
  "nbformat": 4,
  "nbformat_minor": 0,
  "metadata": {
    "colab": {
      "provenance": [],
      "collapsed_sections": [
        "gw3eZLKkU-fP",
        "UQMO4b6u007D",
        "izNSmtGue7gD",
        "k---xJS96EJu",
        "91W7wg7b6HY9",
        "zvGoy2ehzcQu"
      ],
      "include_colab_link": true
    },
    "kernelspec": {
      "name": "python3",
      "display_name": "Python 3"
    },
    "language_info": {
      "name": "python"
    }
  },
  "cells": [
    {
      "cell_type": "markdown",
      "metadata": {
        "id": "view-in-github",
        "colab_type": "text"
      },
      "source": [
        "<a href=\"https://colab.research.google.com/github/PopRazvanHoria/NLP-UB/blob/main/Data_Preprocessing.ipynb\" target=\"_parent\"><img src=\"https://colab.research.google.com/assets/colab-badge.svg\" alt=\"Open In Colab\"/></a>"
      ]
    },
    {
      "cell_type": "markdown",
      "source": [
        "# Preprocesarea Datelor\n",
        "\n",
        "Limbajul scris conține multe elemente care nu relevă informație neapărat relevantă pentru taskul curent. De multe ori este mai bine să eliminăm declinările, punctuația, numerele etc. din modelarea textului. Depinzând de problema curentă, putem alege una sau mai multe metode de curățare a textului:\n",
        "- Tokenizarea textului\n",
        "- Transformarea în litere mici\n",
        "- Eliminarea cifrelor / numerelor sau transformarea lor în cuvinte\n",
        "- Eliminarea linkurilor [LINK]\n",
        "- Eliminarea userilor (@) [USER]\n",
        "- Eliminarea sau înlocuirea hashtagurilor (#)\n",
        "- Eliminarea sau transformarea în cuvinte a emoticoanelor ( :) :D) și a emojiurilor (💙 🐱)\n",
        "- Eliminarea punctuației\n",
        "- Eliminarea cuvintelor comune din limbă (stopwords)\n",
        "- Stemming / lemmatizare"
      ],
      "metadata": {
        "id": "U3sSizRnguC5"
      }
    },
    {
      "cell_type": "markdown",
      "source": [
        "# RegEx\n",
        "\n",
        "Un [RegEx](https://www.w3schools.com/python/python_regex.asp) (_Regular Expression_ / _Expresie Regulată_) reprezintă un șir de caractere care definește un șablon de căutare. Poate fi folosit pentru a identifica un subșir într-un string, pentru a-l înlocui sau pentru a împărți textul în jurul lui.\n",
        "\n",
        "Puteți vedea cum funcționează un regex pe un text anume folosind acest link: https://pythex.org/."
      ],
      "metadata": {
        "id": "gw3eZLKkU-fP"
      }
    },
    {
      "cell_type": "code",
      "source": [
        "import re\n",
        "\n",
        "txt = \"The rain   in Spain stays mainly   in the plain\"\n",
        "x = re.search(\"Spai.\", txt)\n",
        "x"
      ],
      "metadata": {
        "colab": {
          "base_uri": "https://localhost:8080/"
        },
        "id": "JY3TpT-V5QX3",
        "outputId": "8e694c48-5141-44af-c7e9-fb40430abcbd"
      },
      "execution_count": null,
      "outputs": [
        {
          "output_type": "execute_result",
          "data": {
            "text/plain": [
              "<re.Match object; span=(14, 19), match='Spain'>"
            ]
          },
          "metadata": {},
          "execution_count": 10
        }
      ]
    },
    {
      "cell_type": "markdown",
      "source": [
        "Căutarea unui string nu returnează nimic dacă nu găsește niciun match, altfel returnează un obiect cu matchul exact și poziția la care se află. Stringul devine relevant când folosim alte simboluri pentru pattern matching, cum ar fi:\n",
        "- . - orice caracter\n",
        "- \\+ - mai multe apariții ale caracterului anterior\n",
        "- \\* - un număr nedefinit de apariții are caracterului anterior, incluzând 0"
      ],
      "metadata": {
        "id": "6XX0_VEtWJAr"
      }
    },
    {
      "cell_type": "code",
      "source": [
        "x = re.split(\" +.\", txt)\n",
        "print(x)"
      ],
      "metadata": {
        "colab": {
          "base_uri": "https://localhost:8080/"
        },
        "id": "37jcxol7D7yu",
        "outputId": "95b6de60-e634-4cc0-c267-ef854f494185"
      },
      "execution_count": null,
      "outputs": [
        {
          "output_type": "stream",
          "name": "stdout",
          "text": [
            "['The', 'ain', 'n', 'pain', 'tays', 'ainly', 'n', 'he', 'lain']\n"
          ]
        }
      ]
    },
    {
      "cell_type": "markdown",
      "source": [
        "Alte caractere speciale:\n",
        "- \\d - cifre\n",
        "- \\D - nu cifre\n",
        "- \\s - spațiu\n",
        "- \\S - nu spațiu\n",
        "- \\w - litere mici, majuscule, caracterul \"_\"\n",
        "- \\W - tot ce nu e \\w\n",
        "- [a-m] - setul de caractere din interior. Poate include intervale\n",
        "\n",
        "Librăria completă poate fi găsită aici https://docs.python.org/3/library/re.html."
      ],
      "metadata": {
        "id": "7c-ppOwgEszZ"
      }
    },
    {
      "cell_type": "markdown",
      "source": [
        "Putem folosi un regex să identificăm toate cuvintele care includ secvența \"ai\":\n"
      ],
      "metadata": {
        "id": "iZBBAPXQtMAz"
      }
    },
    {
      "cell_type": "code",
      "source": [
        "x = re.findall(\"\\w*ai\\w\", txt)\n",
        "print(x)"
      ],
      "metadata": {
        "colab": {
          "base_uri": "https://localhost:8080/"
        },
        "id": "Oxme5CAus_uJ",
        "outputId": "95945a8f-db88-4895-90c1-f2d55e8b850d"
      },
      "execution_count": null,
      "outputs": [
        {
          "output_type": "stream",
          "name": "stdout",
          "text": [
            "['rain', 'Spain', 'main', 'plain']\n"
          ]
        }
      ]
    },
    {
      "cell_type": "markdown",
      "source": [
        "# Tokenizare\n",
        "\n",
        "Tokenizarea este procesul de împărțire a textului în _tokens_. Tokenii nu sunt neapărat cuvinte sau propoziții, ci o secvență de caractere împărțite după o anumită regulă."
      ],
      "metadata": {
        "id": "cbpK2r2z6mgw"
      }
    },
    {
      "cell_type": "markdown",
      "source": [
        "Pentru următoarele exerciții vom folosi un corpus din [NLTK](https://www.nltk.org/) pentru analiza sentimentelor."
      ],
      "metadata": {
        "id": "y9ab1d6c0vAR"
      }
    },
    {
      "cell_type": "code",
      "source": [
        "import nltk\n",
        "from nltk.corpus import twitter_samples\n",
        "\n",
        "nltk.download('punkt')\n",
        "nltk.download('twitter_samples')\n",
        "tweets = twitter_samples.strings('positive_tweets.json')\n",
        "negative_tweets = twitter_samples.strings('negative_tweets.json')\n",
        "tweets"
      ],
      "metadata": {
        "id": "xFT9RrgQ0vAa"
      },
      "execution_count": null,
      "outputs": []
    },
    {
      "cell_type": "code",
      "source": [
        "from nltk import sent_tokenize, word_tokenize\n",
        "\n",
        "print(tweets[6])\n",
        "print(sent_tokenize(tweets[6]))\n",
        "print(word_tokenize(tweets[6]))"
      ],
      "metadata": {
        "id": "2wMg2p2bFSkF",
        "colab": {
          "base_uri": "https://localhost:8080/"
        },
        "outputId": "bb55fafd-9124-47e0-9aa9-343d124f8a95"
      },
      "execution_count": null,
      "outputs": [
        {
          "output_type": "stream",
          "name": "stdout",
          "text": [
            "We don't like to keep our lovely customers waiting for long! We hope you enjoy! Happy Friday! - LWWF :) https://t.co/smyYriipxI\n",
            "[\"We don't like to keep our lovely customers waiting for long!\", 'We hope you enjoy!', 'Happy Friday!', '- LWWF :) https://t.co/smyYriipxI']\n",
            "['We', 'do', \"n't\", 'like', 'to', 'keep', 'our', 'lovely', 'customers', 'waiting', 'for', 'long', '!', 'We', 'hope', 'you', 'enjoy', '!', 'Happy', 'Friday', '!', '-', 'LWWF', ':', ')', 'https', ':', '//t.co/smyYriipxI']\n"
          ]
        }
      ]
    },
    {
      "cell_type": "markdown",
      "source": [
        "Observați cum nltk desparte cuvântul \"don't\". Alte tokenizatoare îl pot păstra întreg. Acesta este un exemplu de decizie de tokenizare care trebuie făcută."
      ],
      "metadata": {
        "id": "X_R5Pa8Q2Rxc"
      }
    },
    {
      "cell_type": "markdown",
      "source": [
        "# Emoticoane & emojiuri\n",
        "\n",
        "Tokenizarea se bazează de obicei pe spații și punctuație, ceea ce înseamnă că nu știe să gestioneze emoticoanele. O variantă este să ne creăm propriul regex care să identifice simbolurile să să le înlocuiască cu emoția corespunzătoare.\n",
        "\n",
        "Un scurt exemplu:"
      ],
      "metadata": {
        "id": "izNSmtGue7gD"
      }
    },
    {
      "cell_type": "code",
      "source": [
        "emoticons = {\n",
        "    \"happy\": r\":[\\)|D+]\",\n",
        "    \"laugh\": r\":\\)\\)+\",\n",
        "    \"sad\": r\":\\(+\"\n",
        "}"
      ],
      "metadata": {
        "id": "JVKGAPTzKrwP"
      },
      "execution_count": null,
      "outputs": []
    },
    {
      "cell_type": "markdown",
      "source": [
        "Pentru emoticoane putem folosi biblioteca [emoji](https://pypi.org/project/emoji/):"
      ],
      "metadata": {
        "id": "dL_3jA0j-HrL"
      }
    },
    {
      "cell_type": "code",
      "source": [
        "!pip install emoji"
      ],
      "metadata": {
        "colab": {
          "base_uri": "https://localhost:8080/"
        },
        "id": "_2jGoaJnQUGD",
        "outputId": "435cad4b-5ad3-4e66-8cdb-bf8d562b9f30"
      },
      "execution_count": null,
      "outputs": [
        {
          "output_type": "stream",
          "name": "stdout",
          "text": [
            "Collecting emoji\n",
            "  Downloading emoji-2.8.0-py2.py3-none-any.whl (358 kB)\n",
            "\u001b[?25l     \u001b[90m━━━━━━━━━━━━━━━━━━━━━━━━━━━━━━━━━━━━━━━━\u001b[0m \u001b[32m0.0/358.9 kB\u001b[0m \u001b[31m?\u001b[0m eta \u001b[36m-:--:--\u001b[0m\r\u001b[2K     \u001b[91m━━━━━━━━━━━━━━━━━━━━━━━━━━━━━━━━━━━━━━━\u001b[0m\u001b[91m╸\u001b[0m \u001b[32m358.4/358.9 kB\u001b[0m \u001b[31m12.5 MB/s\u001b[0m eta \u001b[36m0:00:01\u001b[0m\r\u001b[2K     \u001b[90m━━━━━━━━━━━━━━━━━━━━━━━━━━━━━━━━━━━━━━━━\u001b[0m \u001b[32m358.9/358.9 kB\u001b[0m \u001b[31m9.7 MB/s\u001b[0m eta \u001b[36m0:00:00\u001b[0m\n",
            "\u001b[?25hInstalling collected packages: emoji\n",
            "Successfully installed emoji-2.8.0\n"
          ]
        }
      ]
    },
    {
      "cell_type": "code",
      "source": [
        "import emoji\n",
        "\n",
        "print(tweets[24])\n",
        "emoji.demojize(tweets[24])"
      ],
      "metadata": {
        "colab": {
          "base_uri": "https://localhost:8080/",
          "height": 53
        },
        "id": "MgVVPDioOeFx",
        "outputId": "0bd32ca5-e94f-447f-fec2-ba56484c5a33"
      },
      "execution_count": null,
      "outputs": [
        {
          "output_type": "stream",
          "name": "stdout",
          "text": [
            "💅🏽💋 - :)))) haven't seen you in years\n"
          ]
        },
        {
          "output_type": "execute_result",
          "data": {
            "text/plain": [
              "\":nail_polish_medium_skin_tone::kiss_mark: - :)))) haven't seen you in years\""
            ],
            "application/vnd.google.colaboratory.intrinsic+json": {
              "type": "string"
            }
          },
          "metadata": {},
          "execution_count": 16
        }
      ]
    },
    {
      "cell_type": "markdown",
      "source": [
        "# Lematizare vs. Stemming\n",
        "\n",
        "De cele mai multe ori formatul exact în care apare un text nu este relevant, ci ne interesează mai mult informația pe care o transmite și frecvența sa în text. Din acest motiv putem reduce cuvintele la cea mai simplă formă a lor.\n",
        "\n",
        "În cazul lematizării cea mai simplă formă este forma de dicționar și se numește _lemă_. Stemmingul folosește regex pentru a elimina prefixele și sufixele, ceea ce înseamnă că un _stem_ nu reprezintă neapărat un cuvânt real, sau poate reprezenta un alt cuvânt deja existent.\n",
        "\n",
        "În general folosim stemmingul când vrem un răspuns rapid sau când avem de-a face cu multe cuvinte scrise incorect (ca pe rețelele de socializare)."
      ],
      "metadata": {
        "id": "k---xJS96EJu"
      }
    },
    {
      "cell_type": "markdown",
      "source": [
        "![1_HLQgkMt5-g5WO5VpNuTl_g.jpeg](https://miro.medium.com/max/564/1*HLQgkMt5-g5WO5VpNuTl_g.jpeg)"
      ],
      "metadata": {
        "id": "SYFj69rC1T3r"
      }
    },
    {
      "cell_type": "markdown",
      "source": [
        "Aici este un exemplu de cum putem folosi lematizarea sau stemmingul pentru limba engleză:"
      ],
      "metadata": {
        "id": "rzKROdKPfIvC"
      }
    },
    {
      "cell_type": "code",
      "source": [
        "nltk.download('wordnet')"
      ],
      "metadata": {
        "id": "uaC3VE7GfxvB",
        "colab": {
          "base_uri": "https://localhost:8080/"
        },
        "outputId": "06b20336-5c01-4ba1-e61d-5b79b9825a23"
      },
      "execution_count": null,
      "outputs": [
        {
          "output_type": "stream",
          "name": "stderr",
          "text": [
            "[nltk_data] Downloading package wordnet to /root/nltk_data...\n"
          ]
        },
        {
          "output_type": "execute_result",
          "data": {
            "text/plain": [
              "True"
            ]
          },
          "metadata": {},
          "execution_count": 118
        }
      ]
    },
    {
      "cell_type": "code",
      "source": [
        "word = \"leaves\""
      ],
      "metadata": {
        "id": "Z9jeWhD321z2"
      },
      "execution_count": null,
      "outputs": []
    },
    {
      "cell_type": "code",
      "source": [
        "from nltk.stem import WordNetLemmatizer\n",
        "\n",
        "lemmatizer = WordNetLemmatizer()\n",
        "\n",
        "print(f\"{word} :\", lemmatizer.lemmatize(word))"
      ],
      "metadata": {
        "colab": {
          "base_uri": "https://localhost:8080/"
        },
        "id": "YrEn9Ytl1ycZ",
        "outputId": "11133c52-e807-4912-b407-fa4da37cee34"
      },
      "execution_count": null,
      "outputs": [
        {
          "output_type": "stream",
          "name": "stdout",
          "text": [
            "leaves : leaf\n"
          ]
        }
      ]
    },
    {
      "cell_type": "code",
      "source": [
        "from nltk.stem import PorterStemmer\n",
        "\n",
        "stemmer = PorterStemmer()\n",
        "\n",
        "print(f\"{word} :\", stemmer.stem(word))"
      ],
      "metadata": {
        "colab": {
          "base_uri": "https://localhost:8080/"
        },
        "id": "SjH_MhOY2poF",
        "outputId": "22639455-61a8-49a1-9b3b-38922c537be4"
      },
      "execution_count": null,
      "outputs": [
        {
          "output_type": "stream",
          "name": "stdout",
          "text": [
            "leaves : leav\n"
          ]
        }
      ]
    },
    {
      "cell_type": "markdown",
      "source": [
        "# Cuvinte comune (Stopwords)\n",
        "\n",
        "Stopwords reprezintă cele mai des utilizate cuvinte dintr-o limbă. Deși au valoare sintactică și morfologică, stopwords nu au foarte multă valoare semantică. Cele mai multe sunt pronume (\"we\"), prepoziții (\"for\") sau conjuncții (\"and\"), dar putem regăsi și verbe (\"is\") sau numerale (\"two\").\n",
        "\n",
        "[Fun fact](https://www.youtube.com/watch?v=fCn8zs912OE)"
      ],
      "metadata": {
        "id": "91W7wg7b6HY9"
      }
    },
    {
      "cell_type": "code",
      "source": [
        "nltk.download('stopwords')"
      ],
      "metadata": {
        "colab": {
          "base_uri": "https://localhost:8080/"
        },
        "id": "xZS8k63_rXB0",
        "outputId": "5aae5792-c91d-436c-ed3f-495211f3c4a7"
      },
      "execution_count": null,
      "outputs": [
        {
          "output_type": "stream",
          "name": "stderr",
          "text": [
            "[nltk_data] Downloading package stopwords to /root/nltk_data...\n",
            "[nltk_data]   Unzipping corpora/stopwords.zip.\n"
          ]
        },
        {
          "output_type": "execute_result",
          "data": {
            "text/plain": [
              "True"
            ]
          },
          "metadata": {},
          "execution_count": 19
        }
      ]
    },
    {
      "cell_type": "code",
      "source": [
        "from nltk.corpus import stopwords\n",
        "\n",
        "stop_words_nltk = set(stopwords.words('english'))\n",
        "print(stop_words_nltk)"
      ],
      "metadata": {
        "colab": {
          "base_uri": "https://localhost:8080/"
        },
        "id": "U4gju2Q9zUft",
        "outputId": "ce4659c7-1c40-4bee-eca0-3f203443d37f"
      },
      "execution_count": null,
      "outputs": [
        {
          "output_type": "stream",
          "name": "stdout",
          "text": [
            "{'through', 'on', 'each', 'out', \"don't\", 'me', 'o', 'in', \"won't\", 'before', \"that'll\", 'm', 'ourselves', \"shouldn't\", 'nor', 'it', \"you'll\", 'has', 'all', 'some', 're', 'to', 'did', 'with', \"wasn't\", 'this', \"isn't\", 'during', 'further', \"haven't\", 'while', 'the', 'over', 'couldn', 'same', 'and', 'have', 'here', \"she's\", 'between', 'aren', \"hasn't\", 'had', 'by', 'other', 'because', \"weren't\", 'than', 't', 'haven', 'until', 'but', 'y', \"couldn't\", 'why', 'do', 've', \"needn't\", 'yourselves', 'having', 's', 'is', 'just', 'isn', 'theirs', 'their', 'myself', 'whom', 'him', 'where', 'yours', 'hasn', 'doing', 'being', \"you'd\", 'they', 'were', 'if', 'shan', 'wasn', 'as', \"should've\", 'll', \"mustn't\", 'off', 'we', 'own', 'under', 'too', \"aren't\", 'shouldn', 'i', 'ma', 'he', 'above', 'once', 'will', 'against', 'his', 'hadn', 'ain', \"didn't\", 'that', 'how', 'there', 'most', 'hers', 'itself', 'our', \"hadn't\", 'then', \"doesn't\", 'd', 'her', 'them', 'be', 'very', 'can', 'she', 'more', 'ours', \"you're\", 'you', 'of', 'your', 'don', 'doesn', 'mightn', 'below', \"wouldn't\", 'both', 'needn', 'should', \"it's\", 'or', 'for', 'won', 'which', 'been', 'so', 'what', 'was', 'only', 'themselves', 'are', 'who', \"mightn't\", 'an', 'again', \"you've\", 'herself', 'few', 'himself', 'when', 'weren', 'its', 'a', 'down', 'not', \"shan't\", 'those', 'no', 'now', 'my', 'these', 'am', 'any', 'after', 'yourself', 'wouldn', 'from', 'about', 'mustn', 'such', 'didn', 'up', 'at', 'into', 'does'}\n"
          ]
        }
      ]
    },
    {
      "cell_type": "markdown",
      "source": [
        "# Exerciții\n",
        "\n",
        "\n",
        "\n",
        "1. Scrie o funcție care împarte un text în tokeni folosind regex.\n",
        "2. Scrie o funcție care înlocuiește toate emoticoanele (nu doar cele date ca exemplu) și emojiurile din text.\n",
        "3. Scrie o funcție care primește un text și returnează varianta preprocesată. Funcția va converti toate numerele în cuvinte folosind [num2words](https://pypi.org/project/num2words/), va elimina linkurile, hashtagurile, mentions, punctuația, stopwords, va face toate textele literă mică și va aplica lematizarea sau stemming.\n",
        "4. Analizează setul de date. Uită-te la elemente de preprocesare sau alte features folosind ce ați învățat în primul laborator. Ce pare important?\n",
        "5. Pe baza analizei anterioare scrie o funcție de preprocesare care elimină doar informația irelevantă. Poți generaliza funcția originală specificând în lista de parametri ce modificări vrei să faci la apelarea funcției. Alternativ, poți face o clasă care include o serie de funcții care pot fi alese la inițializare. Cu cât e mai general cu atât mai bine.\n",
        "6. Compară metodele de preprocesare."
      ],
      "metadata": {
        "id": "eJhncK_LaaV8"
      }
    },
    {
      "cell_type": "code",
      "source": [
        "import nltk\n",
        "from nltk.corpus import twitter_samples\n",
        "\n",
        "nltk.download('punkt')\n",
        "nltk.download('twitter_samples')\n",
        "tweets = twitter_samples.strings('positive_tweets.json')\n",
        "negative_tweets = twitter_samples.strings('negative_tweets.json')\n",
        "tweets[:10]"
      ],
      "metadata": {
        "id": "8qAw2Fm344LI",
        "colab": {
          "base_uri": "https://localhost:8080/"
        },
        "outputId": "d8b1a8df-1c97-4324-c916-68479b616c55"
      },
      "execution_count": 2,
      "outputs": [
        {
          "output_type": "stream",
          "name": "stderr",
          "text": [
            "[nltk_data] Downloading package punkt to /root/nltk_data...\n",
            "[nltk_data]   Package punkt is already up-to-date!\n",
            "[nltk_data] Downloading package twitter_samples to /root/nltk_data...\n",
            "[nltk_data]   Package twitter_samples is already up-to-date!\n"
          ]
        },
        {
          "output_type": "execute_result",
          "data": {
            "text/plain": [
              "['#FollowFriday @France_Inte @PKuchly57 @Milipol_Paris for being top engaged members in my community this week :)',\n",
              " '@Lamb2ja Hey James! How odd :/ Please call our Contact Centre on 02392441234 and we will be able to assist you :) Many thanks!',\n",
              " '@DespiteOfficial we had a listen last night :) As You Bleed is an amazing track. When are you in Scotland?!',\n",
              " '@97sides CONGRATS :)',\n",
              " 'yeaaaah yippppy!!!  my accnt verified rqst has succeed got a blue tick mark on my fb profile :) in 15 days',\n",
              " '@BhaktisBanter @PallaviRuhail This one is irresistible :)\\n#FlipkartFashionFriday http://t.co/EbZ0L2VENM',\n",
              " \"We don't like to keep our lovely customers waiting for long! We hope you enjoy! Happy Friday! - LWWF :) https://t.co/smyYriipxI\",\n",
              " '@Impatientraider On second thought, there’s just not enough time for a DD :) But new shorts entering system. Sheep must be buying.',\n",
              " 'Jgh , but we have to go to Bayan :D bye',\n",
              " 'As an act of mischievousness, am calling the ETL layer of our in-house warehousing app Katamari.\\n\\nWell… as the name implies :p.']"
            ]
          },
          "metadata": {},
          "execution_count": 2
        }
      ]
    },
    {
      "cell_type": "code",
      "source": [
        "import re\n",
        "\n",
        "#Split text to tokens, i split only by spaces <- Ex 1\n",
        "\n",
        "def split_to_tokens(text):\n",
        "  return re.split(\" \",text)\n",
        "\n",
        "for text in tweets[:100]:\n",
        "\n",
        "  result = split_to_tokens(text)\n",
        "  print(\"Text:  \", text)\n",
        "  print(\"Result:\", result)"
      ],
      "metadata": {
        "id": "iGY76cgYwc-r"
      },
      "execution_count": null,
      "outputs": []
    },
    {
      "cell_type": "code",
      "source": [
        "!pip install emoji"
      ],
      "metadata": {
        "colab": {
          "base_uri": "https://localhost:8080/"
        },
        "outputId": "e25d7919-09f2-4323-e515-4e2a11893282",
        "id": "srFizvRj5Jrl"
      },
      "execution_count": 5,
      "outputs": [
        {
          "output_type": "stream",
          "name": "stdout",
          "text": [
            "Collecting emoji\n",
            "  Downloading emoji-2.10.1-py2.py3-none-any.whl (421 kB)\n",
            "\u001b[2K     \u001b[90m━━━━━━━━━━━━━━━━━━━━━━━━━━━━━━━━━━━━━━━━\u001b[0m \u001b[32m421.5/421.5 kB\u001b[0m \u001b[31m2.9 MB/s\u001b[0m eta \u001b[36m0:00:00\u001b[0m\n",
            "\u001b[?25hInstalling collected packages: emoji\n",
            "Successfully installed emoji-2.10.1\n"
          ]
        }
      ]
    },
    {
      "cell_type": "code",
      "source": [
        "import re\n",
        "import emoji\n",
        "\n",
        "#Replace emoticons and emojis\n",
        "replacements = {\n",
        "    r':\\)\\)+' : \"hard laugh\",\n",
        "    r':\\)\\)'  : \"laugh\",\n",
        "    r':\\)'    : \"smile\",\n",
        "    r':D'     : \"grin\",\n",
        "    r':-\\)'   : \"smile\",\n",
        "    r':p'     : \"tongue out\",\n",
        "    r'\\(y\\)'  : \"like\"\n",
        "}\n",
        "\n",
        "def convert_emoticons_emoji(text, replacements):\n",
        "  result = text\n",
        "  for regex_condition, replacement in replacements.items():\n",
        "      result = re.sub(regex_condition, replacement, result)\n",
        "\n",
        "  return emoji.demojize(result)\n",
        "\n",
        "for text in tweets[:100]:\n",
        "\n",
        "  result = convert_emoticons_emoji(text, replacements)\n",
        "  print(\"Text:  \", text)\n",
        "  print(\"Result:\", result)"
      ],
      "metadata": {
        "id": "nNFfvhDD0V9Z"
      },
      "execution_count": null,
      "outputs": []
    },
    {
      "cell_type": "markdown",
      "source": [
        "Scrie o funcție care primește un text și returnează varianta preprocesată. Funcția va converti toate numerele în cuvinte folosind num2words, va elimina linkurile, hashtagurile, mentions, punctuația, stopwords, va face toate textele literă mică și va aplica lematizarea sau stemming."
      ],
      "metadata": {
        "id": "MdfQ3HmGFVc1"
      }
    },
    {
      "cell_type": "code",
      "source": [
        "!pip install num2words"
      ],
      "metadata": {
        "id": "8faYTlDxGSg6",
        "outputId": "1e351c5e-6496-4586-8bfa-72f58f872e23",
        "colab": {
          "base_uri": "https://localhost:8080/"
        }
      },
      "execution_count": 7,
      "outputs": [
        {
          "output_type": "stream",
          "name": "stdout",
          "text": [
            "Collecting num2words\n",
            "  Downloading num2words-0.5.13-py3-none-any.whl (143 kB)\n",
            "\u001b[2K     \u001b[90m━━━━━━━━━━━━━━━━━━━━━━━━━━━━━━━━━━━━━━━━\u001b[0m \u001b[32m143.3/143.3 kB\u001b[0m \u001b[31m1.8 MB/s\u001b[0m eta \u001b[36m0:00:00\u001b[0m\n",
            "\u001b[?25hCollecting docopt>=0.6.2 (from num2words)\n",
            "  Downloading docopt-0.6.2.tar.gz (25 kB)\n",
            "  Preparing metadata (setup.py) ... \u001b[?25l\u001b[?25hdone\n",
            "Building wheels for collected packages: docopt\n",
            "  Building wheel for docopt (setup.py) ... \u001b[?25l\u001b[?25hdone\n",
            "  Created wheel for docopt: filename=docopt-0.6.2-py2.py3-none-any.whl size=13706 sha256=ecf081eb134813c2e91c37e47e796a25eaaf2c7b5922dd53d3ee806700cb7709\n",
            "  Stored in directory: /root/.cache/pip/wheels/fc/ab/d4/5da2067ac95b36618c629a5f93f809425700506f72c9732fac\n",
            "Successfully built docopt\n",
            "Installing collected packages: docopt, num2words\n",
            "Successfully installed docopt-0.6.2 num2words-0.5.13\n"
          ]
        }
      ]
    },
    {
      "cell_type": "code",
      "source": [
        "from num2words import num2words\n",
        "import re\n",
        "\n",
        "def numbers_to_words(text):\n",
        "  def replace(match):\n",
        "      number = int(match.group(0))\n",
        "      return num2words(number)\n",
        "\n",
        "  # Use regex to find all numbers in the text\n",
        "  pattern = r'\\b\\d+\\b'\n",
        "  result = re.sub(pattern, replace, text)\n",
        "  return result\n",
        "\n",
        "# Example usage:\n",
        "for text in tweets[:100]:\n",
        "  converted_text = numbers_to_words(text)\n",
        "  print(\"Original text: \", text)\n",
        "  print(\"Converted text:\", converted_text)\n"
      ],
      "metadata": {
        "id": "Ykt4lfj7FWF8"
      },
      "execution_count": null,
      "outputs": []
    },
    {
      "cell_type": "code",
      "source": [
        "def remove_links(text):\n",
        "  # Regular expression pattern to match URLs\n",
        "  pattern = r'http\\S+'\n",
        "\n",
        "  # Use re.sub() to remove all matches of the pattern from the text\n",
        "  result = re.sub(pattern, '', text)\n",
        "\n",
        "  return result\n",
        "\n",
        "# Example usage:\n",
        "for text in tweets[:100]:\n",
        "  removed_links = remove_links(text)\n",
        "  print(\"Original text: \", text)\n",
        "  print(\"Removed text:\", removed_links)"
      ],
      "metadata": {
        "id": "cBsgnOiNHWte"
      },
      "execution_count": null,
      "outputs": []
    },
    {
      "cell_type": "code",
      "source": [
        "def remove_hashtags(text):\n",
        "  # Regular expression pattern to match hashtags\n",
        "  pattern = r'#\\w+'\n",
        "\n",
        "  # Use re.sub() to remove all matches of the pattern from the text\n",
        "  result = re.sub(pattern, '', text)\n",
        "\n",
        "  return result\n",
        "\n",
        "# Example usage:\n",
        "for text in tweets[:100]:\n",
        "  removed_hashtags = remove_hashtags(text)\n",
        "  print(\"Original text:        \", text)\n",
        "  print(\"Removed hashtags text:\", removed_hashtags)"
      ],
      "metadata": {
        "id": "uecXMAwyITXG"
      },
      "execution_count": null,
      "outputs": []
    },
    {
      "cell_type": "code",
      "source": [
        "def remove_references(text):\n",
        "  # Regular expression pattern to match references (mentions)\n",
        "  pattern = r'@\\w+'\n",
        "\n",
        "  # Use re.sub() to remove all matches of the pattern from the text\n",
        "  result = re.sub(pattern, '', text)\n",
        "\n",
        "  return result\n",
        "\n",
        "# Example usage:\n",
        "for text in tweets[:100]:\n",
        "  removed_references = remove_references(text)\n",
        "  print(\"Original text          :\", text)\n",
        "  print(\"Removed references text:\", removed_references)\n",
        "  print()"
      ],
      "metadata": {
        "id": "otOcx1cnI6Z7"
      },
      "execution_count": null,
      "outputs": []
    },
    {
      "cell_type": "code",
      "source": [
        "def remove_punctuation(text):\n",
        "  # Regular expression pattern to match punctuation\n",
        "  pattern = r'[^\\w\\s]'\n",
        "\n",
        "  # Use re.sub() to remove all matches of the pattern from the text\n",
        "  result = re.sub(pattern, '', text)\n",
        "\n",
        "  return result\n",
        "\n",
        "# Example usage:\n",
        "for text in tweets[:100]:\n",
        "  removed_punctuation = remove_punctuation(text)\n",
        "  print(\"Original text           :\", text)\n",
        "  print(\"Removed punctuation text:\", removed_punctuation)\n",
        "  print()"
      ],
      "metadata": {
        "id": "ZMHrrxBDJmkd"
      },
      "execution_count": null,
      "outputs": []
    },
    {
      "cell_type": "code",
      "source": [
        "import nltk\n",
        "from nltk.corpus import stopwords\n",
        "nltk.download('stopwords')\n",
        "\n",
        "def remove_stopwords(text):\n",
        "  # Tokenize the text into words\n",
        "  words = text.split()\n",
        "\n",
        "  # Get the list of English stopwords\n",
        "  stop_words = set(stopwords.words('english'))\n",
        "\n",
        "  # Filter out stopwords from the text\n",
        "  filtered_words = [word for word in words if word.lower() not in stop_words]\n",
        "\n",
        "  # Join the filtered words back into a single string\n",
        "  filtered_text = ' '.join(filtered_words)\n",
        "\n",
        "  return filtered_text\n",
        "\n",
        "# Example usage:\n",
        "for text in tweets[:100]:\n",
        "  removed_stopwords = remove_stopwords(text)\n",
        "  print(\"Original text        :\", text)\n",
        "  print(\"Removed stopword text:\", removed_stopwords)\n",
        "  print()"
      ],
      "metadata": {
        "id": "WjaRiqJoKKJ2"
      },
      "execution_count": null,
      "outputs": []
    },
    {
      "cell_type": "code",
      "source": [
        "def convert_to_lowercase(text):\n",
        "    return text.lower()\n",
        "\n",
        "# Example usage:\n",
        "for text in tweets[:100]:\n",
        "  converted_to_lowercase = convert_to_lowercase(text)\n",
        "  print(\"Original text:\", text)\n",
        "  print(\"Lower text   :\", converted_to_lowercase)\n",
        "  print()"
      ],
      "metadata": {
        "id": "bEMWI8saKldK"
      },
      "execution_count": null,
      "outputs": []
    },
    {
      "cell_type": "code",
      "source": [
        "nltk.download('wordnet')"
      ],
      "metadata": {
        "outputId": "4bf97365-8f33-4bb7-da9e-b4983a22d0bc",
        "colab": {
          "base_uri": "https://localhost:8080/"
        },
        "id": "dXjljdpwLjq2"
      },
      "execution_count": 15,
      "outputs": [
        {
          "output_type": "stream",
          "name": "stderr",
          "text": [
            "[nltk_data] Downloading package wordnet to /root/nltk_data...\n"
          ]
        },
        {
          "output_type": "execute_result",
          "data": {
            "text/plain": [
              "True"
            ]
          },
          "metadata": {},
          "execution_count": 15
        }
      ]
    },
    {
      "cell_type": "code",
      "source": [
        "import nltk\n",
        "from nltk.stem import WordNetLemmatizer\n",
        "\n",
        "def lemmatize_word(word):\n",
        "  # Initialize WordNetLemmatizer\n",
        "  lemmatizer = WordNetLemmatizer()\n",
        "\n",
        "  # Lemmatize the word\n",
        "  lemmatized_word = lemmatizer.lemmatize(word)\n",
        "\n",
        "  return lemmatized_word\n",
        "\n",
        "# Example usage:\n",
        "word = \"yeahhh\"\n",
        "lemmatized_word = lemmatize_word(word)\n",
        "print(\"Original word:\", word)\n",
        "print(\"Lemmatized word:\", lemmatized_word)"
      ],
      "metadata": {
        "colab": {
          "base_uri": "https://localhost:8080/"
        },
        "id": "BIxLXflYLUJS",
        "outputId": "61aa75c8-9ef4-4257-d40e-098a6520cf96"
      },
      "execution_count": 43,
      "outputs": [
        {
          "output_type": "stream",
          "name": "stdout",
          "text": [
            "Original word: yeahhh\n",
            "Lemmatized word: yeahhh\n"
          ]
        }
      ]
    },
    {
      "cell_type": "code",
      "source": [
        "def preprocessing(text):\n",
        "  # Scrie o funcție care primește un text și returnează varianta preprocesată.\n",
        "  #Funcția va converti toate numerele în cuvinte folosind num2words, va elimina linkurile, hashtagurile, mentions, punctuația, stopwords, va face toate textele literă mică și va aplica lematizarea sau stemming.\n",
        "  result = text\n",
        "  result = numbers_to_words(result)\n",
        "  result = remove_links(result)\n",
        "  result = remove_hashtags(result)\n",
        "  result = remove_references(result)\n",
        "  result = remove_punctuation(result)\n",
        "  result = remove_stopwords(result)\n",
        "  result = convert_to_lowercase(result)\n",
        "  result = lemmatize_word(result)\n",
        "  return result\n",
        "\n",
        "# Example usage:\n",
        "for text in tweets[:100]:\n",
        "  preprocessed = preprocessing(text)\n",
        "  print(\"Original text :\", text)\n",
        "  print(\"Processed text:\", preprocessed)\n",
        "  print()"
      ],
      "metadata": {
        "id": "I_fMo9pR7ZMQ"
      },
      "execution_count": null,
      "outputs": []
    },
    {
      "cell_type": "code",
      "source": [
        "import matplotlib.pyplot as plt\n",
        "import numpy as np\n",
        "from wordcloud import WordCloud, ImageColorGenerator\n",
        "from PIL import Image\n",
        "import requests\n",
        "\n",
        "#Creating a wordcloud\n",
        "processed_tweets = []\n",
        "for text in tweets[:1000]:\n",
        "  processed_tweets.append(preprocessing(text))\n",
        "text = ' '.join(processed_tweets)\n",
        "\n",
        "url = 'https://upload.wikimedia.org/wikipedia/commons/f/f2/Logo_Twitter.png'\n",
        "\n",
        "image = requests.get(url, stream=True).raw\n",
        "mask = np.array(Image.open(image))\n",
        "image_colors = ImageColorGenerator(mask)\n",
        "\n",
        "wordcloud = WordCloud(background_color=\"white\", max_words=1000, mask=mask, contour_color='black').generate(text)\n",
        "\n",
        "plt.imshow(wordcloud.recolor(color_func=image_colors), interpolation=\"bilinear\")\n",
        "plt.axis(\"off\")\n",
        "plt.show()\n"
      ],
      "metadata": {
        "id": "EQt5M3jy7lla",
        "outputId": "4d828559-e225-46d3-9b1a-2a6952f084a4",
        "colab": {
          "base_uri": "https://localhost:8080/",
          "height": 406
        }
      },
      "execution_count": 39,
      "outputs": [
        {
          "output_type": "display_data",
          "data": {
            "text/plain": [
              "<Figure size 640x480 with 1 Axes>"
            ],
            "image/png": "[encoded data removed]"
          },
          "metadata": {}
        }
      ]
    },
    {
      "cell_type": "markdown",
      "source": [
        "Well, observ ca e bine sa le iei intr-o ordine etapele procesarii, cum ar fi, nu e util sa stergi punctuatile si apoi sa cauti emotes."
      ],
      "metadata": {
        "id": "nnuE4mzwI0pO"
      }
    },
    {
      "cell_type": "code",
      "source": [
        "!pip install pyenchant\n"
      ],
      "metadata": {
        "id": "z91ULks-RjkC",
        "outputId": "7c91bf55-0403-4bd6-8be6-bfc2827ad87f",
        "colab": {
          "base_uri": "https://localhost:8080/"
        }
      },
      "execution_count": 6,
      "outputs": [
        {
          "output_type": "stream",
          "name": "stdout",
          "text": [
            "Requirement already satisfied: pyenchant in /usr/local/lib/python3.10/dist-packages (3.2.2)\n"
          ]
        }
      ]
    },
    {
      "cell_type": "code",
      "source": [
        "import enchant\n",
        "\n",
        "# Initialize English dictionary\n",
        "english_dict = enchant.Dict(\"en_US\")\n",
        "\n",
        "def correct_misspelled_words(text):\n",
        "    # Split the text into words\n",
        "    words = text.split()\n",
        "\n",
        "    # Iterate through each word\n",
        "    corrected_words = []\n",
        "    for word in words:\n",
        "        # Check if the word is misspelled\n",
        "        if not english_dict.check(word):\n",
        "            # Attempt to suggest corrections\n",
        "            suggestions = english_dict.suggest(word)\n",
        "            if suggestions:\n",
        "                # Take the first suggestion as the corrected word\n",
        "                corrected_word = suggestions[0]\n",
        "            else:\n",
        "                # If no suggestions are available, keep the original word\n",
        "                corrected_word = word\n",
        "        else:\n",
        "            # If the word is spelled correctly, keep it unchanged\n",
        "            corrected_word = word\n",
        "\n",
        "        # Append the corrected word to the list of corrected words\n",
        "        corrected_words.append(corrected_word)\n",
        "\n",
        "    # Join the corrected words back into a single string\n",
        "    corrected_text = \" \".join(corrected_words)\n",
        "\n",
        "    return corrected_text\n",
        "\n",
        "# Example usage:\n",
        "text_with_misspellings = \"The helo wrld. Ths is beter now.\"\n",
        "corrected_text = correct_misspelled_words(text_with_misspellings)\n",
        "print(\"Corrected text:\", corrected_text)\n",
        "# Example usage:\n",
        "\n",
        "for text in tweets[:5]:\n",
        "  converted_to_lowercase = correct_misspelled_words(text)\n",
        "  print(\"Original text:\", text)\n",
        "  print(\"Lower text   :\", converted_to_lowercase)\n",
        "  print()\n",
        "\n"
      ],
      "metadata": {
        "id": "tDoNWkMYJjmP",
        "outputId": "4cffac40-c29c-4402-e4f1-69282b0f4c72",
        "colab": {
          "base_uri": "https://localhost:8080/",
          "height": 383
        }
      },
      "execution_count": 8,
      "outputs": [
        {
          "output_type": "error",
          "ename": "ModuleNotFoundError",
          "evalue": "No module named 'pyenchant'",
          "traceback": [
            "\u001b[0;31m---------------------------------------------------------------------------\u001b[0m",
            "\u001b[0;31mModuleNotFoundError\u001b[0m                       Traceback (most recent call last)",
            "\u001b[0;32m<ipython-input-8-5c2dbc248498>\u001b[0m in \u001b[0;36m<cell line: 1>\u001b[0;34m()\u001b[0m\n\u001b[0;32m----> 1\u001b[0;31m \u001b[0;32mimport\u001b[0m \u001b[0mpyenchant\u001b[0m\u001b[0;34m\u001b[0m\u001b[0;34m\u001b[0m\u001b[0m\n\u001b[0m\u001b[1;32m      2\u001b[0m \u001b[0;34m\u001b[0m\u001b[0m\n\u001b[1;32m      3\u001b[0m \u001b[0;31m# Initialize English dictionary\u001b[0m\u001b[0;34m\u001b[0m\u001b[0;34m\u001b[0m\u001b[0m\n\u001b[1;32m      4\u001b[0m \u001b[0menglish_dict\u001b[0m \u001b[0;34m=\u001b[0m \u001b[0menchant\u001b[0m\u001b[0;34m.\u001b[0m\u001b[0mDict\u001b[0m\u001b[0;34m(\u001b[0m\u001b[0;34m\"en_US\"\u001b[0m\u001b[0;34m)\u001b[0m\u001b[0;34m\u001b[0m\u001b[0;34m\u001b[0m\u001b[0m\n\u001b[1;32m      5\u001b[0m \u001b[0;34m\u001b[0m\u001b[0m\n",
            "\u001b[0;31mModuleNotFoundError\u001b[0m: No module named 'pyenchant'",
            "",
            "\u001b[0;31m---------------------------------------------------------------------------\u001b[0;32m\nNOTE: If your import is failing due to a missing package, you can\nmanually install dependencies using either !pip or !apt.\n\nTo view examples of installing some common dependencies, click the\n\"Open Examples\" button below.\n\u001b[0;31m---------------------------------------------------------------------------\u001b[0m\n"
          ],
          "errorDetails": {
            "actions": [
              {
                "action": "open_url",
                "actionText": "Open Examples",
                "url": "/notebooks/snippets/importing_libraries.ipynb"
              }
            ]
          }
        }
      ]
    },
    {
      "cell_type": "code",
      "source": [
        "import nltk\n",
        "from nltk.corpus import words\n",
        "\n",
        "# Download NLTK words corpus\n",
        "nltk.download('words')\n",
        "\n",
        "# Load the English word corpus\n",
        "word_corpus = set(words.words())\n",
        "\n",
        "def normalize_elongated_words(text):\n",
        "  def normalize_word(word):\n",
        "    if len(word) > 2 and word.lower() in word_corpus:\n",
        "      return word.lower()  # If the base form exists in the corpus, return it\n",
        "    else:\n",
        "      return word\n",
        "\n",
        "  # Split the text into words\n",
        "  words = text.split()\n",
        "\n",
        "  # Normalize each word\n",
        "  normalized_words = [normalize_word(word) for word in words]\n",
        "\n",
        "  # Join the normalized words back into a single string\n",
        "  normalized_text = \" \".join(normalized_words)\n",
        "\n",
        "  return normalized_text\n",
        "\n",
        "# Example usage:\n",
        "# for text in tweets[:100]:\n",
        "#   ad = normalize_elongated_words(text)\n",
        "#   print(\"Original text:\", text)\n",
        "#   print(\"Lower text   :\", ad)\n",
        "#   print()\n",
        "def normalize_word(word):\n",
        "    if len(word) > 2 and word.lower() in word_corpus:\n",
        "      return word.lower()  # If the base form exists in the corpus, return it\n",
        "    else:\n",
        "      return word\n",
        "normalize_word(\"hellllllllllloo\")"
      ],
      "metadata": {
        "id": "CCQ_nGv1MFxA",
        "outputId": "9c23f120-b704-4c32-9499-74f8314a04f3",
        "colab": {
          "base_uri": "https://localhost:8080/",
          "height": 70
        }
      },
      "execution_count": 51,
      "outputs": [
        {
          "output_type": "stream",
          "name": "stderr",
          "text": [
            "[nltk_data] Downloading package words to /root/nltk_data...\n",
            "[nltk_data]   Package words is already up-to-date!\n"
          ]
        },
        {
          "output_type": "execute_result",
          "data": {
            "text/plain": [
              "'hellllllllllloo'"
            ],
            "application/vnd.google.colaboratory.intrinsic+json": {
              "type": "string"
            }
          },
          "metadata": {},
          "execution_count": 51
        }
      ]
    }
  ]
}